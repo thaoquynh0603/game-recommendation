{
 "cells": [
  {
   "cell_type": "markdown",
   "metadata": {},
   "source": [
    "## I. Get the data"
   ]
  },
  {
   "cell_type": "markdown",
   "metadata": {},
   "source": [
    "##### 1. Scrape the title of game from Wikipedia"
   ]
  },
  {
   "cell_type": "code",
   "execution_count": 1,
   "metadata": {},
   "outputs": [
    {
     "name": "stderr",
     "output_type": "stream",
     "text": [
      "c:\\Users\\Hi\\AppData\\Local\\Programs\\Python\\Python39\\lib\\site-packages\\cryptography\\hazmat\\backends\\openssl\\x509.py:14: CryptographyDeprecationWarning: This version of cryptography contains a temporary pyOpenSSL fallback path. Upgrade pyOpenSSL now.\n",
      "  warnings.warn(\n"
     ]
    }
   ],
   "source": [
    "import requests\n",
    "import bs4 as bs\n",
    "\n",
    "elements = []\n",
    "url = requests.get('https://en.wikipedia.org/wiki/List_of_Nintendo_Switch_games_(0%E2%80%939_and_A)').text\n",
    "soup = bs.BeautifulSoup(url, 'lxml')\n",
    "table = soup.find('table', class_='wikitable plainrowheaders sortable')\n",
    "\n",
    "for i in table.find_all('tr'):\n",
    "    try:\n",
    "        game = i.find_all('th')\n",
    "        name = game[0].find(text=True)\n",
    "        link = game[0].find(href=True)['href']\n",
    "    except: pass\n",
    "    else:        \n",
    "        elements.append([name, link])"
   ]
  },
  {
   "cell_type": "markdown",
   "metadata": {},
   "source": [
    "##### 2. Create a dataframe "
   ]
  },
  {
   "cell_type": "code",
   "execution_count": 2,
   "metadata": {},
   "outputs": [
    {
     "name": "stdout",
     "output_type": "stream",
     "text": [
      "Shape of dataframe:  (115, 2) \n",
      "\n"
     ]
    },
    {
     "data": {
      "text/html": [
       "<div>\n",
       "<style scoped>\n",
       "    .dataframe tbody tr th:only-of-type {\n",
       "        vertical-align: middle;\n",
       "    }\n",
       "\n",
       "    .dataframe tbody tr th {\n",
       "        vertical-align: top;\n",
       "    }\n",
       "\n",
       "    .dataframe thead th {\n",
       "        text-align: right;\n",
       "    }\n",
       "</style>\n",
       "<table border=\"1\" class=\"dataframe\">\n",
       "  <thead>\n",
       "    <tr style=\"text-align: right;\">\n",
       "      <th></th>\n",
       "      <th>title</th>\n",
       "      <th>link</th>\n",
       "    </tr>\n",
       "  </thead>\n",
       "  <tbody>\n",
       "    <tr>\n",
       "      <th>0</th>\n",
       "      <td>1-2-Switch</td>\n",
       "      <td>/wiki/1-2-Switch</td>\n",
       "    </tr>\n",
       "    <tr>\n",
       "      <th>1</th>\n",
       "      <td>10 Second Ninja X</td>\n",
       "      <td>/wiki/10_Second_Ninja_X</td>\n",
       "    </tr>\n",
       "    <tr>\n",
       "      <th>2</th>\n",
       "      <td>13 Sentinels Aegis Rim</td>\n",
       "      <td>/wiki/13_Sentinels_Aegis_Rim</td>\n",
       "    </tr>\n",
       "    <tr>\n",
       "      <th>3</th>\n",
       "      <td>140</td>\n",
       "      <td>/wiki/140_(video_game)</td>\n",
       "    </tr>\n",
       "    <tr>\n",
       "      <th>4</th>\n",
       "      <td>1979 Revolution Black Friday</td>\n",
       "      <td>/wiki/1979_Revolution_Black_Friday</td>\n",
       "    </tr>\n",
       "  </tbody>\n",
       "</table>\n",
       "</div>"
      ],
      "text/plain": [
       "                          title                                link\n",
       "0                    1-2-Switch                    /wiki/1-2-Switch\n",
       "1             10 Second Ninja X             /wiki/10_Second_Ninja_X\n",
       "2        13 Sentinels Aegis Rim        /wiki/13_Sentinels_Aegis_Rim\n",
       "3                           140              /wiki/140_(video_game)\n",
       "4  1979 Revolution Black Friday  /wiki/1979_Revolution_Black_Friday"
      ]
     },
     "execution_count": 2,
     "metadata": {},
     "output_type": "execute_result"
    }
   ],
   "source": [
    "import pandas as pd\n",
    "df_games = pd.DataFrame(elements, columns=['title', 'link'])\n",
    "df_games = df_games.astype(str)\n",
    "df_games = df_games.applymap(lambda x: x.replace('\\n', ''))\n",
    "df_games = df_games.applymap(lambda x: x.replace(':', ''))\n",
    "print('Shape of dataframe: ', df_games.shape, '\\n')\n",
    "df_games.head() "
   ]
  },
  {
   "cell_type": "markdown",
   "metadata": {},
   "source": [
    "##### 3. Scrape information about the game"
   ]
  },
  {
   "cell_type": "code",
   "execution_count": 5,
   "metadata": {},
   "outputs": [
    {
     "name": "stderr",
     "output_type": "stream",
     "text": [
      "c:\\Users\\Hi\\AppData\\Local\\Programs\\Python\\Python39\\lib\\site-packages\\cryptography\\hazmat\\backends\\openssl\\x509.py:14: CryptographyDeprecationWarning: This version of cryptography contains a temporary pyOpenSSL fallback path. Upgrade pyOpenSSL now.\n",
      "  warnings.warn(\n"
     ]
    }
   ],
   "source": [
    "wiki_origin = 'https://en.wikipedia.org'\n",
    "content = []\n",
    "for index, row in df_games.iterrows():\n",
    "    url = wiki_origin + row['link']\n",
    "    detail_url = requests.get(url).text\n",
    "    soup = bs.BeautifulSoup(detail_url,'lxml')\n",
    "    text = ''\n",
    "    for section in soup.find_all('h2'):\n",
    "        if section.text.startswith('Game') or section.text.startswith('Plot'):\n",
    "            text += section.text + '\\n\\n'\n",
    "            for element in section.next_siblings:\n",
    "                if element.name and element.name.startswith('h'):\n",
    "                    break\n",
    "                elif element.name == 'p':\n",
    "                    text += element.text + '\\n'\n",
    "        else: pass\n",
    "    if not text:\n",
    "        content.append(None)\n",
    "    else:\n",
    "        content.append(text)"
   ]
  },
  {
   "cell_type": "markdown",
   "metadata": {},
   "source": [
    "##### 4. Clean the text of information"
   ]
  },
  {
   "cell_type": "code",
   "execution_count": 6,
   "metadata": {},
   "outputs": [
    {
     "data": {
      "text/html": [
       "<div>\n",
       "<style scoped>\n",
       "    .dataframe tbody tr th:only-of-type {\n",
       "        vertical-align: middle;\n",
       "    }\n",
       "\n",
       "    .dataframe tbody tr th {\n",
       "        vertical-align: top;\n",
       "    }\n",
       "\n",
       "    .dataframe thead th {\n",
       "        text-align: right;\n",
       "    }\n",
       "</style>\n",
       "<table border=\"1\" class=\"dataframe\">\n",
       "  <thead>\n",
       "    <tr style=\"text-align: right;\">\n",
       "      <th></th>\n",
       "      <th>title</th>\n",
       "      <th>link</th>\n",
       "      <th>content</th>\n",
       "    </tr>\n",
       "  </thead>\n",
       "  <tbody>\n",
       "    <tr>\n",
       "      <th>0</th>\n",
       "      <td>1-2-Switch</td>\n",
       "      <td>/wiki/1-2-Switch</td>\n",
       "      <td>1-2-Switch is a party game in which players d...</td>\n",
       "    </tr>\n",
       "    <tr>\n",
       "      <th>1</th>\n",
       "      <td>10 Second Ninja X</td>\n",
       "      <td>/wiki/10_Second_Ninja_X</td>\n",
       "      <td>10 Second Ninja X is a sidescrolling puzzle p...</td>\n",
       "    </tr>\n",
       "    <tr>\n",
       "      <th>2</th>\n",
       "      <td>13 Sentinels Aegis Rim</td>\n",
       "      <td>/wiki/13_Sentinels_Aegis_Rim</td>\n",
       "      <td>13 Sentinels: Aegis Rim is a video game where...</td>\n",
       "    </tr>\n",
       "    <tr>\n",
       "      <th>3</th>\n",
       "      <td>140</td>\n",
       "      <td>/wiki/140_(video_game)</td>\n",
       "      <td>As described by Carlsen, 140 is \"an old schoo...</td>\n",
       "    </tr>\n",
       "    <tr>\n",
       "      <th>4</th>\n",
       "      <td>1979 Revolution Black Friday</td>\n",
       "      <td>/wiki/1979_Revolution_Black_Friday</td>\n",
       "      <td>None</td>\n",
       "    </tr>\n",
       "  </tbody>\n",
       "</table>\n",
       "</div>"
      ],
      "text/plain": [
       "                          title                                link  \\\n",
       "0                    1-2-Switch                    /wiki/1-2-Switch   \n",
       "1             10 Second Ninja X             /wiki/10_Second_Ninja_X   \n",
       "2        13 Sentinels Aegis Rim        /wiki/13_Sentinels_Aegis_Rim   \n",
       "3                           140              /wiki/140_(video_game)   \n",
       "4  1979 Revolution Black Friday  /wiki/1979_Revolution_Black_Friday   \n",
       "\n",
       "                                             content  \n",
       "0   1-2-Switch is a party game in which players d...  \n",
       "1   10 Second Ninja X is a sidescrolling puzzle p...  \n",
       "2   13 Sentinels: Aegis Rim is a video game where...  \n",
       "3   As described by Carlsen, 140 is \"an old schoo...  \n",
       "4                                               None  "
      ]
     },
     "execution_count": 6,
     "metadata": {},
     "output_type": "execute_result"
    }
   ],
   "source": [
    "content_clean = []\n",
    "for text in content:\n",
    "    if text is not None:\n",
    "        text = text.replace(r'\\[.*?\\]+', '')\n",
    "        text = text.replace('\\n', ' ')\n",
    "        text = text.replace('[edit]', '')\n",
    "        text = text.replace('Gameplay ', '')\n",
    "        text = text.replace('Game-play ', '')\n",
    "        text = text.replace('Plot ', '')\n",
    "        content_clean.append(text)\n",
    "    else:\n",
    "        content_clean.append(None)\n",
    "\n",
    "df_games['content'] = content_clean\n",
    "\n",
    "todrop = df_games[df_games['title']=='Untitled '].index.tolist()\n",
    "df_games.drop(index=todrop, inplace=True)\n",
    "\n",
    "df_games.head()"
   ]
  },
  {
   "cell_type": "markdown",
   "metadata": {},
   "source": [
    "##### 5. Save the dataset"
   ]
  },
  {
   "cell_type": "code",
   "execution_count": 7,
   "metadata": {},
   "outputs": [],
   "source": [
    "df_games = df_games.dropna()\n",
    "df_games.to_csv('dataset.csv')   "
   ]
  },
  {
   "cell_type": "markdown",
   "metadata": {},
   "source": [
    "## II. Build the model"
   ]
  },
  {
   "cell_type": "markdown",
   "metadata": {},
   "source": [
    "#### 1. Tokenize the text"
   ]
  },
  {
   "cell_type": "code",
   "execution_count": 8,
   "metadata": {},
   "outputs": [
    {
     "name": "stderr",
     "output_type": "stream",
     "text": [
      "[nltk_data] Downloading package punkt to\n",
      "[nltk_data]     C:\\Users\\Hi\\AppData\\Roaming\\nltk_data...\n",
      "[nltk_data]   Package punkt is already up-to-date!\n"
     ]
    }
   ],
   "source": [
    "import nltk\n",
    "nltk.download('punkt')\n",
    "import re\n",
    "from nltk.stem.snowball import SnowballStemmer\n",
    "stemmer = SnowballStemmer(\"english\")"
   ]
  },
  {
   "cell_type": "code",
   "execution_count": 9,
   "metadata": {},
   "outputs": [],
   "source": [
    "def tokenize_and_stem(text):\n",
    "    tokens = [word for sent in nltk.sent_tokenize(text) for word in nltk.word_tokenize(sent)]\n",
    "    filtered_tokens = [token for token in tokens if re.search('[a-zA-Z]', token)]\n",
    "    stems = [stemmer.stem(word) for word in filtered_tokens]\n",
    "    return stems"
   ]
  },
  {
   "cell_type": "markdown",
   "metadata": {},
   "source": [
    "#### 2. Feature extraction from text"
   ]
  },
  {
   "cell_type": "code",
   "execution_count": 10,
   "metadata": {},
   "outputs": [
    {
     "name": "stderr",
     "output_type": "stream",
     "text": [
      "c:\\Users\\Hi\\AppData\\Local\\Programs\\Python\\Python39\\lib\\site-packages\\sklearn\\feature_extraction\\text.py:396: UserWarning: Your stop_words may be inconsistent with your preprocessing. Tokenizing the stop words generated tokens ['abov', 'afterward', 'alon', 'alreadi', 'alway', 'ani', 'anoth', 'anyon', 'anyth', 'anywher', 'becam', 'becaus', 'becom', 'befor', 'besid', 'cri', 'describ', 'dure', 'els', 'elsewher', 'empti', 'everi', 'everyon', 'everyth', 'everywher', 'fifti', 'forti', 'henc', 'hereaft', 'herebi', 'howev', 'hundr', 'inde', 'mani', 'meanwhil', 'moreov', 'nobodi', 'noon', 'noth', 'nowher', 'onc', 'onli', 'otherwis', 'ourselv', 'perhap', 'pleas', 'sever', 'sinc', 'sincer', 'sixti', 'someon', 'someth', 'sometim', 'somewher', 'themselv', 'thenc', 'thereaft', 'therebi', 'therefor', 'togeth', 'twelv', 'twenti', 'veri', 'whatev', 'whenc', 'whenev', 'wherea', 'whereaft', 'wherebi', 'wherev', 'whi', 'yourselv'] not in stop_words.\n",
      "  warnings.warn(\n"
     ]
    }
   ],
   "source": [
    "from sklearn.feature_extraction.text import TfidfVectorizer\n",
    "tfidf_vectorizer = TfidfVectorizer(max_df=0.8, max_features=200000,\n",
    "                                 min_df=0.2, stop_words='english',\n",
    "                                 use_idf=True, tokenizer=tokenize_and_stem,\n",
    "                                 ngram_range=(1,3))\n",
    "tfidf_matrix = tfidf_vectorizer.fit_transform([x for x in df_games[\"content\"]])"
   ]
  },
  {
   "cell_type": "markdown",
   "metadata": {},
   "source": [
    "##### 3. Apply Kmeans to cluster similar games"
   ]
  },
  {
   "cell_type": "code",
   "execution_count": 11,
   "metadata": {},
   "outputs": [],
   "source": [
    "from sklearn.cluster import KMeans\n",
    "km = KMeans(n_clusters=7)\n",
    "km.fit(tfidf_matrix)\n",
    "clusters = km.labels_.tolist()\n",
    "df_games[\"cluster\"] = clusters"
   ]
  },
  {
   "cell_type": "markdown",
   "metadata": {},
   "source": [
    "##### 4. Calculate the similarity distance of each game"
   ]
  },
  {
   "cell_type": "code",
   "execution_count": 12,
   "metadata": {},
   "outputs": [],
   "source": [
    "from sklearn.metrics.pairwise import cosine_similarity\n",
    "from scipy.cluster.hierarchy import linkage, dendrogram\n",
    "import matplotlib.pyplot as plt\n",
    "\n",
    "similarity_distance = 1 - cosine_similarity(tfidf_matrix)\n",
    "mergings = linkage(similarity_distance, method='complete')"
   ]
  },
  {
   "cell_type": "code",
   "execution_count": 13,
   "metadata": {},
   "outputs": [],
   "source": [
    "vals = df_games['title'].tolist()\n",
    "similarity_df = pd.DataFrame(similarity_distance, columns=vals, index=vals)"
   ]
  },
  {
   "cell_type": "markdown",
   "metadata": {},
   "source": [
    "##### 5. Recommend the similar items to one of the game"
   ]
  },
  {
   "cell_type": "code",
   "execution_count": 14,
   "metadata": {},
   "outputs": [
    {
     "data": {
      "text/html": [
       "<div>\n",
       "<style scoped>\n",
       "    .dataframe tbody tr th:only-of-type {\n",
       "        vertical-align: middle;\n",
       "    }\n",
       "\n",
       "    .dataframe tbody tr th {\n",
       "        vertical-align: top;\n",
       "    }\n",
       "\n",
       "    .dataframe thead th {\n",
       "        text-align: right;\n",
       "    }\n",
       "</style>\n",
       "<table border=\"1\" class=\"dataframe\">\n",
       "  <thead>\n",
       "    <tr style=\"text-align: right;\">\n",
       "      <th></th>\n",
       "      <th>link</th>\n",
       "      <th>content</th>\n",
       "      <th>cluster</th>\n",
       "    </tr>\n",
       "    <tr>\n",
       "      <th>title</th>\n",
       "      <th></th>\n",
       "      <th></th>\n",
       "      <th></th>\n",
       "    </tr>\n",
       "  </thead>\n",
       "  <tbody>\n",
       "    <tr>\n",
       "      <th>Ancestors Legacy</th>\n",
       "      <td>/wiki/Ancestors_Legacy</td>\n",
       "      <td>Ancestor's Legacy offers two game modes: a si...</td>\n",
       "      <td>1</td>\n",
       "    </tr>\n",
       "    <tr>\n",
       "      <th>Another World</th>\n",
       "      <td>/wiki/Another_World_(video_game)</td>\n",
       "      <td>Another World is a platform game, featuring a...</td>\n",
       "      <td>5</td>\n",
       "    </tr>\n",
       "    <tr>\n",
       "      <th>Aaero</th>\n",
       "      <td>/wiki/Aaero</td>\n",
       "      <td>The basic controls are that of a twin-stick s...</td>\n",
       "      <td>5</td>\n",
       "    </tr>\n",
       "    <tr>\n",
       "      <th>Astria Ascending</th>\n",
       "      <td>/wiki/Astria_Ascending</td>\n",
       "      <td>Astria Ascending primarily features two modes...</td>\n",
       "      <td>5</td>\n",
       "    </tr>\n",
       "    <tr>\n",
       "      <th>Ape Out</th>\n",
       "      <td>/wiki/Ape_Out</td>\n",
       "      <td>Ape Out is a single player beat 'em up video ...</td>\n",
       "      <td>5</td>\n",
       "    </tr>\n",
       "  </tbody>\n",
       "</table>\n",
       "</div>"
      ],
      "text/plain": [
       "                                              link  \\\n",
       "title                                                \n",
       "Ancestors Legacy            /wiki/Ancestors_Legacy   \n",
       "Another World     /wiki/Another_World_(video_game)   \n",
       "Aaero                                  /wiki/Aaero   \n",
       "Astria Ascending            /wiki/Astria_Ascending   \n",
       "Ape Out                              /wiki/Ape_Out   \n",
       "\n",
       "                                                            content  cluster  \n",
       "title                                                                         \n",
       "Ancestors Legacy   Ancestor's Legacy offers two game modes: a si...        1  \n",
       "Another World      Another World is a platform game, featuring a...        5  \n",
       "Aaero              The basic controls are that of a twin-stick s...        5  \n",
       "Astria Ascending   Astria Ascending primarily features two modes...        5  \n",
       "Ape Out            Ape Out is a single player beat 'em up video ...        5  "
      ]
     },
     "execution_count": 14,
     "metadata": {},
     "output_type": "execute_result"
    }
   ],
   "source": [
    "title = '1-2-Switch'\n",
    "matches = similarity_df[title].sort_values()[1:6]\n",
    "matches = matches.index.tolist()\n",
    "df_games.set_index('title').loc[matches]"
   ]
  }
 ],
 "metadata": {
  "kernelspec": {
   "display_name": "Python 3.9.4 64-bit",
   "language": "python",
   "name": "python3"
  },
  "language_info": {
   "codemirror_mode": {
    "name": "ipython",
    "version": 3
   },
   "file_extension": ".py",
   "mimetype": "text/x-python",
   "name": "python",
   "nbconvert_exporter": "python",
   "pygments_lexer": "ipython3",
   "version": "3.9.4"
  },
  "orig_nbformat": 4,
  "vscode": {
   "interpreter": {
    "hash": "81830785a582968a2110cffe1964d8f451651689538b146dcf69ca503ead1894"
   }
  }
 },
 "nbformat": 4,
 "nbformat_minor": 2
}
